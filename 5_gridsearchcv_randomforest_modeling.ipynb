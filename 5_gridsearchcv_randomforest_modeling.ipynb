{
 "cells": [
  {
   "cell_type": "code",
   "execution_count": 1,
   "metadata": {
    "ExecuteTime": {
     "end_time": "2020-03-06T13:43:52.433954Z",
     "start_time": "2020-03-06T13:43:45.693923Z"
    },
    "hide_input": false
   },
   "outputs": [],
   "source": [
    "import numpy as np\n",
    "import pandas as pd\n",
    "import matplotlib.pyplot as plt\n",
    "\n",
    "from sklearn.model_selection import train_test_split\n",
    "from sklearn.ensemble import RandomForestRegressor\n",
    "from sklearn.model_selection import GridSearchCV\n",
    "from sklearn import metrics"
   ]
  },
  {
   "cell_type": "code",
   "execution_count": 2,
   "metadata": {
    "scrolled": false
   },
   "outputs": [
    {
     "name": "stdout",
     "output_type": "stream",
     "text": [
      "<class 'pandas.core.frame.DataFrame'>\n",
      "RangeIndex: 286706 entries, 0 to 286705\n",
      "Data columns (total 46 columns):\n",
      "Station_code           286706 non-null int64\n",
      "index                  286706 non-null int64\n",
      "Day                    286706 non-null int64\n",
      "Holiday                286706 non-null int64\n",
      "Typhoon                286706 non-null int64\n",
      "Route_id               286706 non-null int64\n",
      "Route_score            286706 non-null float64\n",
      "In_Out                 286706 non-null object\n",
      "Station_name           286706 non-null object\n",
      "Latitude               286706 non-null float64\n",
      "Longitude              286706 non-null float64\n",
      "Transfer               286706 non-null int64\n",
      "Airport                286706 non-null int64\n",
      "Terminal               286706 non-null int64\n",
      "School                 286706 non-null int64\n",
      "Bus_interval           286706 non-null float64\n",
      "Geton_6.9              286706 non-null int64\n",
      "Geton_9.12             286706 non-null int64\n",
      "Getoff_6.9             286706 non-null int64\n",
      "Getoff_9.12            286706 non-null int64\n",
      "Geton_total            286706 non-null int64\n",
      "Getoff_total           286706 non-null int64\n",
      "Commuter_count         286706 non-null int64\n",
      "Type_general_geton     286706 non-null int64\n",
      "Type_others_geton      286706 non-null int64\n",
      "Type_general_getoff    286706 non-null float64\n",
      "Type_others_getoff     286706 non-null float64\n",
      "Geton_18.20            286706 non-null int64\n",
      "RouteStationCode       286706 non-null object\n",
      "Week                   286706 non-null int64\n",
      "station_g1             286706 non-null int64\n",
      "station_g2             286706 non-null int64\n",
      "station_g3             286706 non-null int64\n",
      "Mon                    286706 non-null int64\n",
      "Tue                    286706 non-null int64\n",
      "Wed                    286706 non-null int64\n",
      "Thu                    286706 non-null int64\n",
      "Fri                    286706 non-null int64\n",
      "Sat                    286706 non-null int64\n",
      "Sun                    286706 non-null int64\n",
      "prcp                   286706 non-null int64\n",
      "address                286706 non-null object\n",
      "price_up               286706 non-null int64\n",
      "price_down             286706 non-null int64\n",
      "pop_down               286706 non-null int64\n",
      "pop_up                 286706 non-null int64\n",
      "dtypes: float64(6), int64(36), object(4)\n",
      "memory usage: 100.6+ MB\n"
     ]
    }
   ],
   "source": [
    "df2 = pd.read_csv('model_final_data.csv', encoding='ANSI')\n",
    "df2.info()"
   ]
  },
  {
   "cell_type": "markdown",
   "metadata": {},
   "source": [
    "## 학습용 / 테스트용 데이터 준비"
   ]
  },
  {
   "cell_type": "code",
   "execution_count": 3,
   "metadata": {},
   "outputs": [],
   "source": [
    "df2_fts = df2.drop(['index','Day','Route_id','Station_name','Station_code','Latitude','Longitude','RouteStationCode','In_Out','Week','address','Sat','station_g1','Geton_18.20'], axis = 1)\n",
    "df2_trg = df2['Geton_18.20'] \n",
    "\n",
    "trvl_x2, ts_x2, trvl_y2, ts_y2 = train_test_split(df2_fts, df2_trg, \n",
    "                                          test_size = 0.2, shuffle = True, random_state = 1234)"
   ]
  },
  {
   "cell_type": "markdown",
   "metadata": {},
   "source": [
    "## 교차검증을 사용한 그리드서치 => 최적의 parameter를 찾기 위해"
   ]
  },
  {
   "cell_type": "markdown",
   "metadata": {},
   "source": [
    "**랜덤포레스트 모델 사용**"
   ]
  },
  {
   "cell_type": "code",
   "execution_count": 4,
   "metadata": {},
   "outputs": [
    {
     "name": "stdout",
     "output_type": "stream",
     "text": [
      "Test Set Score: 0.72\n",
      "Best Cross Validation Score: 0.67\n",
      "Best Parameter: {'max_features': 32, 'min_samples_split': 5, 'n_estimators': 400, 'n_jobs': -1, 'random_state': 1}\n",
      "Best Model:\n",
      " RandomForestRegressor(bootstrap=True, criterion='mse', max_depth=None,\n",
      "           max_features=32, max_leaf_nodes=None, min_impurity_decrease=0.0,\n",
      "           min_impurity_split=None, min_samples_leaf=1,\n",
      "           min_samples_split=5, min_weight_fraction_leaf=0.0,\n",
      "           n_estimators=400, n_jobs=-1, oob_score=False, random_state=1,\n",
      "           verbose=0, warm_start=False)\n"
     ]
    }
   ],
   "source": [
    "# 9:31\n",
    "rf = RandomForestRegressor()\n",
    "\n",
    "# Grid Search CV 를 이용해서 파라미터 튜닝과  CV 동시에 실행\n",
    "\n",
    "random_grid = {\n",
    "   \n",
    "    'max_features': [32], \n",
    "    'n_estimators': [400],\n",
    "    'min_samples_split': [5],\n",
    "    'n_jobs' : [-1],\n",
    "    'random_state':[1]\n",
    "}\n",
    "\n",
    "rfgrid = GridSearchCV(rf, random_grid, cv=3)\n",
    "\n",
    "rfgrid.fit(trvl_x2, trvl_y2)\n",
    "\n",
    "print(\"Test Set Score: {:.2f}\".format(rfgrid.score(ts_x2, ts_y2)))\n",
    "print(\"Best Cross Validation Score: {:.2f}\".format(rfgrid.best_score_))\n",
    "print(\"Best Parameter:\", rfgrid.best_params_)\n",
    "print(\"Best Model:\\n\", rfgrid.best_estimator_)"
   ]
  },
  {
   "cell_type": "markdown",
   "metadata": {},
   "source": [
    "## 변수 중요도 평가"
   ]
  },
  {
   "cell_type": "code",
   "execution_count": 5,
   "metadata": {},
   "outputs": [
    {
     "data": {
      "text/html": [
       "<div>\n",
       "<style scoped>\n",
       "    .dataframe tbody tr th:only-of-type {\n",
       "        vertical-align: middle;\n",
       "    }\n",
       "\n",
       "    .dataframe tbody tr th {\n",
       "        vertical-align: top;\n",
       "    }\n",
       "\n",
       "    .dataframe thead th {\n",
       "        text-align: right;\n",
       "    }\n",
       "</style>\n",
       "<table border=\"1\" class=\"dataframe\">\n",
       "  <thead>\n",
       "    <tr style=\"text-align: right;\">\n",
       "      <th></th>\n",
       "      <th>feature</th>\n",
       "      <th>importance</th>\n",
       "    </tr>\n",
       "  </thead>\n",
       "  <tbody>\n",
       "    <tr>\n",
       "      <th>9</th>\n",
       "      <td>Geton_9.12</td>\n",
       "      <td>0.332561</td>\n",
       "    </tr>\n",
       "    <tr>\n",
       "      <th>12</th>\n",
       "      <td>Geton_total</td>\n",
       "      <td>0.083570</td>\n",
       "    </tr>\n",
       "    <tr>\n",
       "      <th>7</th>\n",
       "      <td>Bus_interval</td>\n",
       "      <td>0.080239</td>\n",
       "    </tr>\n",
       "    <tr>\n",
       "      <th>15</th>\n",
       "      <td>Type_general_geton</td>\n",
       "      <td>0.058786</td>\n",
       "    </tr>\n",
       "    <tr>\n",
       "      <th>14</th>\n",
       "      <td>Commuter_count</td>\n",
       "      <td>0.054285</td>\n",
       "    </tr>\n",
       "    <tr>\n",
       "      <th>2</th>\n",
       "      <td>Route_score</td>\n",
       "      <td>0.053910</td>\n",
       "    </tr>\n",
       "    <tr>\n",
       "      <th>20</th>\n",
       "      <td>station_g3</td>\n",
       "      <td>0.043881</td>\n",
       "    </tr>\n",
       "    <tr>\n",
       "      <th>16</th>\n",
       "      <td>Type_others_geton</td>\n",
       "      <td>0.038528</td>\n",
       "    </tr>\n",
       "    <tr>\n",
       "      <th>17</th>\n",
       "      <td>Type_general_getoff</td>\n",
       "      <td>0.031739</td>\n",
       "    </tr>\n",
       "    <tr>\n",
       "      <th>28</th>\n",
       "      <td>price_up</td>\n",
       "      <td>0.029282</td>\n",
       "    </tr>\n",
       "    <tr>\n",
       "      <th>8</th>\n",
       "      <td>Geton_6.9</td>\n",
       "      <td>0.024448</td>\n",
       "    </tr>\n",
       "    <tr>\n",
       "      <th>10</th>\n",
       "      <td>Getoff_6.9</td>\n",
       "      <td>0.019611</td>\n",
       "    </tr>\n",
       "    <tr>\n",
       "      <th>0</th>\n",
       "      <td>Holiday</td>\n",
       "      <td>0.016862</td>\n",
       "    </tr>\n",
       "    <tr>\n",
       "      <th>11</th>\n",
       "      <td>Getoff_9.12</td>\n",
       "      <td>0.016744</td>\n",
       "    </tr>\n",
       "    <tr>\n",
       "      <th>4</th>\n",
       "      <td>Airport</td>\n",
       "      <td>0.016722</td>\n",
       "    </tr>\n",
       "    <tr>\n",
       "      <th>13</th>\n",
       "      <td>Getoff_total</td>\n",
       "      <td>0.016706</td>\n",
       "    </tr>\n",
       "    <tr>\n",
       "      <th>18</th>\n",
       "      <td>Type_others_getoff</td>\n",
       "      <td>0.015012</td>\n",
       "    </tr>\n",
       "    <tr>\n",
       "      <th>31</th>\n",
       "      <td>pop_up</td>\n",
       "      <td>0.008052</td>\n",
       "    </tr>\n",
       "    <tr>\n",
       "      <th>27</th>\n",
       "      <td>prcp</td>\n",
       "      <td>0.007537</td>\n",
       "    </tr>\n",
       "    <tr>\n",
       "      <th>19</th>\n",
       "      <td>station_g2</td>\n",
       "      <td>0.006625</td>\n",
       "    </tr>\n",
       "    <tr>\n",
       "      <th>23</th>\n",
       "      <td>Wed</td>\n",
       "      <td>0.006547</td>\n",
       "    </tr>\n",
       "    <tr>\n",
       "      <th>21</th>\n",
       "      <td>Mon</td>\n",
       "      <td>0.006127</td>\n",
       "    </tr>\n",
       "    <tr>\n",
       "      <th>1</th>\n",
       "      <td>Typhoon</td>\n",
       "      <td>0.005115</td>\n",
       "    </tr>\n",
       "    <tr>\n",
       "      <th>25</th>\n",
       "      <td>Fri</td>\n",
       "      <td>0.004837</td>\n",
       "    </tr>\n",
       "    <tr>\n",
       "      <th>22</th>\n",
       "      <td>Tue</td>\n",
       "      <td>0.004564</td>\n",
       "    </tr>\n",
       "    <tr>\n",
       "      <th>6</th>\n",
       "      <td>School</td>\n",
       "      <td>0.003999</td>\n",
       "    </tr>\n",
       "    <tr>\n",
       "      <th>24</th>\n",
       "      <td>Thu</td>\n",
       "      <td>0.003579</td>\n",
       "    </tr>\n",
       "    <tr>\n",
       "      <th>5</th>\n",
       "      <td>Terminal</td>\n",
       "      <td>0.003340</td>\n",
       "    </tr>\n",
       "    <tr>\n",
       "      <th>26</th>\n",
       "      <td>Sun</td>\n",
       "      <td>0.003240</td>\n",
       "    </tr>\n",
       "    <tr>\n",
       "      <th>29</th>\n",
       "      <td>price_down</td>\n",
       "      <td>0.002596</td>\n",
       "    </tr>\n",
       "    <tr>\n",
       "      <th>3</th>\n",
       "      <td>Transfer</td>\n",
       "      <td>0.000788</td>\n",
       "    </tr>\n",
       "    <tr>\n",
       "      <th>30</th>\n",
       "      <td>pop_down</td>\n",
       "      <td>0.000170</td>\n",
       "    </tr>\n",
       "  </tbody>\n",
       "</table>\n",
       "</div>"
      ],
      "text/plain": [
       "                feature  importance\n",
       "9            Geton_9.12    0.332561\n",
       "12          Geton_total    0.083570\n",
       "7          Bus_interval    0.080239\n",
       "15   Type_general_geton    0.058786\n",
       "14       Commuter_count    0.054285\n",
       "2           Route_score    0.053910\n",
       "20           station_g3    0.043881\n",
       "16    Type_others_geton    0.038528\n",
       "17  Type_general_getoff    0.031739\n",
       "28             price_up    0.029282\n",
       "8             Geton_6.9    0.024448\n",
       "10           Getoff_6.9    0.019611\n",
       "0               Holiday    0.016862\n",
       "11          Getoff_9.12    0.016744\n",
       "4               Airport    0.016722\n",
       "13         Getoff_total    0.016706\n",
       "18   Type_others_getoff    0.015012\n",
       "31               pop_up    0.008052\n",
       "27                 prcp    0.007537\n",
       "19           station_g2    0.006625\n",
       "23                  Wed    0.006547\n",
       "21                  Mon    0.006127\n",
       "1               Typhoon    0.005115\n",
       "25                  Fri    0.004837\n",
       "22                  Tue    0.004564\n",
       "6                School    0.003999\n",
       "24                  Thu    0.003579\n",
       "5              Terminal    0.003340\n",
       "26                  Sun    0.003240\n",
       "29           price_down    0.002596\n",
       "3              Transfer    0.000788\n",
       "30             pop_down    0.000170"
      ]
     },
     "execution_count": 5,
     "metadata": {},
     "output_type": "execute_result"
    }
   ],
   "source": [
    "importance2 = pd.DataFrame({'feature' : trvl_x2.columns, 'importance' : rfgrid.best_estimator_.feature_importances_}).sort_values(by='importance', ascending=False)\n",
    "importance2"
   ]
  },
  {
   "cell_type": "markdown",
   "metadata": {},
   "source": [
    "## metrics"
   ]
  },
  {
   "cell_type": "code",
   "execution_count": 6,
   "metadata": {},
   "outputs": [
    {
     "name": "stdout",
     "output_type": "stream",
     "text": [
      "mean absolute error :  1.2491808564306681\n",
      "mean squared error :  8.795146706376606\n",
      "root mean squared error :  2.965661259546782\n"
     ]
    }
   ],
   "source": [
    "y_hat2 = rfgrid.best_estimator_.predict(ts_x2)\n",
    "\n",
    "mae2 = metrics.mean_absolute_error(ts_y2, y_hat2)\n",
    "mse2 = metrics.mean_squared_error(ts_y2, y_hat2)\n",
    "rmse2 = np.sqrt(mse2)\n",
    "\n",
    "print('mean absolute error : ', mae2)\n",
    "print('mean squared error : ', mse2)\n",
    "print('root mean squared error : ', rmse2)"
   ]
  }
 ],
 "metadata": {
  "kernelspec": {
   "display_name": "Python 3",
   "language": "python",
   "name": "python3"
  },
  "language_info": {
   "codemirror_mode": {
    "name": "ipython",
    "version": 3
   },
   "file_extension": ".py",
   "mimetype": "text/x-python",
   "name": "python",
   "nbconvert_exporter": "python",
   "pygments_lexer": "ipython3",
   "version": "3.7.6"
  },
  "toc": {
   "base_numbering": 1,
   "nav_menu": {},
   "number_sections": true,
   "sideBar": true,
   "skip_h1_title": false,
   "title_cell": "Table of Contents",
   "title_sidebar": "Contents",
   "toc_cell": false,
   "toc_position": {},
   "toc_section_display": true,
   "toc_window_display": false
  },
  "varInspector": {
   "cols": {
    "lenName": 16,
    "lenType": 16,
    "lenVar": 40
   },
   "kernels_config": {
    "python": {
     "delete_cmd_postfix": "",
     "delete_cmd_prefix": "del ",
     "library": "var_list.py",
     "varRefreshCmd": "print(var_dic_list())"
    },
    "r": {
     "delete_cmd_postfix": ") ",
     "delete_cmd_prefix": "rm(",
     "library": "var_list.r",
     "varRefreshCmd": "cat(var_dic_list()) "
    }
   },
   "types_to_exclude": [
    "module",
    "function",
    "builtin_function_or_method",
    "instance",
    "_Feature"
   ],
   "window_display": false
  }
 },
 "nbformat": 4,
 "nbformat_minor": 4
}
